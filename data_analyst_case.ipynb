{
 "cells": [
  {
   "cell_type": "markdown",
   "id": "04634c38",
   "metadata": {},
   "source": [
    "# Importing Libraries and data"
   ]
  },
  {
   "cell_type": "code",
   "execution_count": 1,
   "id": "9a0a368e",
   "metadata": {},
   "outputs": [],
   "source": [
    "import pandas as pd"
   ]
  },
  {
   "cell_type": "code",
   "execution_count": 2,
   "id": "d2c1c92e",
   "metadata": {},
   "outputs": [],
   "source": [
    "data = 'https://gist.githubusercontent.com/cloudwalk-tests/76993838e65d7e0f988f40f1b1909c97/raw/295d9f7cb8fdf08f3cb3bdf1696ab245d5b5c1c9/transactional-sample.csv'"
   ]
  },
  {
   "cell_type": "code",
   "execution_count": 3,
   "id": "1ec1d2af",
   "metadata": {},
   "outputs": [],
   "source": [
    "df = pd.read_csv(data)"
   ]
  },
  {
   "cell_type": "markdown",
   "id": "87e5072f",
   "metadata": {},
   "source": [
    "# Dataset Overview"
   ]
  },
  {
   "cell_type": "code",
   "execution_count": 4,
   "id": "37b83642",
   "metadata": {},
   "outputs": [
    {
     "data": {
      "text/html": [
       "<div>\n",
       "<style scoped>\n",
       "    .dataframe tbody tr th:only-of-type {\n",
       "        vertical-align: middle;\n",
       "    }\n",
       "\n",
       "    .dataframe tbody tr th {\n",
       "        vertical-align: top;\n",
       "    }\n",
       "\n",
       "    .dataframe thead th {\n",
       "        text-align: right;\n",
       "    }\n",
       "</style>\n",
       "<table border=\"1\" class=\"dataframe\">\n",
       "  <thead>\n",
       "    <tr style=\"text-align: right;\">\n",
       "      <th></th>\n",
       "      <th>transaction_id</th>\n",
       "      <th>merchant_id</th>\n",
       "      <th>user_id</th>\n",
       "      <th>card_number</th>\n",
       "      <th>transaction_date</th>\n",
       "      <th>transaction_amount</th>\n",
       "      <th>device_id</th>\n",
       "      <th>has_cbk</th>\n",
       "    </tr>\n",
       "  </thead>\n",
       "  <tbody>\n",
       "    <tr>\n",
       "      <th>0</th>\n",
       "      <td>21320398</td>\n",
       "      <td>29744</td>\n",
       "      <td>97051</td>\n",
       "      <td>434505******9116</td>\n",
       "      <td>2019-12-01T23:16:32.812632</td>\n",
       "      <td>374.56</td>\n",
       "      <td>285475.0</td>\n",
       "      <td>False</td>\n",
       "    </tr>\n",
       "    <tr>\n",
       "      <th>1</th>\n",
       "      <td>21320399</td>\n",
       "      <td>92895</td>\n",
       "      <td>2708</td>\n",
       "      <td>444456******4210</td>\n",
       "      <td>2019-12-01T22:45:37.873639</td>\n",
       "      <td>734.87</td>\n",
       "      <td>497105.0</td>\n",
       "      <td>True</td>\n",
       "    </tr>\n",
       "    <tr>\n",
       "      <th>2</th>\n",
       "      <td>21320400</td>\n",
       "      <td>47759</td>\n",
       "      <td>14777</td>\n",
       "      <td>425850******7024</td>\n",
       "      <td>2019-12-01T22:22:43.021495</td>\n",
       "      <td>760.36</td>\n",
       "      <td>NaN</td>\n",
       "      <td>False</td>\n",
       "    </tr>\n",
       "    <tr>\n",
       "      <th>3</th>\n",
       "      <td>21320401</td>\n",
       "      <td>68657</td>\n",
       "      <td>69758</td>\n",
       "      <td>464296******3991</td>\n",
       "      <td>2019-12-01T21:59:19.797129</td>\n",
       "      <td>2556.13</td>\n",
       "      <td>NaN</td>\n",
       "      <td>True</td>\n",
       "    </tr>\n",
       "    <tr>\n",
       "      <th>4</th>\n",
       "      <td>21320402</td>\n",
       "      <td>54075</td>\n",
       "      <td>64367</td>\n",
       "      <td>650487******6116</td>\n",
       "      <td>2019-12-01T21:30:53.347051</td>\n",
       "      <td>55.36</td>\n",
       "      <td>860232.0</td>\n",
       "      <td>False</td>\n",
       "    </tr>\n",
       "  </tbody>\n",
       "</table>\n",
       "</div>"
      ],
      "text/plain": [
       "   transaction_id  merchant_id  user_id       card_number  \\\n",
       "0        21320398        29744    97051  434505******9116   \n",
       "1        21320399        92895     2708  444456******4210   \n",
       "2        21320400        47759    14777  425850******7024   \n",
       "3        21320401        68657    69758  464296******3991   \n",
       "4        21320402        54075    64367  650487******6116   \n",
       "\n",
       "             transaction_date  transaction_amount  device_id  has_cbk  \n",
       "0  2019-12-01T23:16:32.812632              374.56   285475.0    False  \n",
       "1  2019-12-01T22:45:37.873639              734.87   497105.0     True  \n",
       "2  2019-12-01T22:22:43.021495              760.36        NaN    False  \n",
       "3  2019-12-01T21:59:19.797129             2556.13        NaN     True  \n",
       "4  2019-12-01T21:30:53.347051               55.36   860232.0    False  "
      ]
     },
     "execution_count": 4,
     "metadata": {},
     "output_type": "execute_result"
    }
   ],
   "source": [
    "df.head()"
   ]
  },
  {
   "cell_type": "code",
   "execution_count": 6,
   "id": "ec21c1fe",
   "metadata": {},
   "outputs": [
    {
     "name": "stdout",
     "output_type": "stream",
     "text": [
      "<class 'pandas.core.frame.DataFrame'>\n",
      "RangeIndex: 3199 entries, 0 to 3198\n",
      "Data columns (total 8 columns):\n",
      " #   Column              Non-Null Count  Dtype  \n",
      "---  ------              --------------  -----  \n",
      " 0   transaction_id      3199 non-null   int64  \n",
      " 1   merchant_id         3199 non-null   int64  \n",
      " 2   user_id             3199 non-null   int64  \n",
      " 3   card_number         3199 non-null   object \n",
      " 4   transaction_date    3199 non-null   object \n",
      " 5   transaction_amount  3199 non-null   float64\n",
      " 6   device_id           2369 non-null   float64\n",
      " 7   has_cbk             3199 non-null   bool   \n",
      "dtypes: bool(1), float64(2), int64(3), object(2)\n",
      "memory usage: 178.2+ KB\n"
     ]
    }
   ],
   "source": [
    "df.info()"
   ]
  },
  {
   "cell_type": "code",
   "execution_count": 57,
   "id": "f179b43d",
   "metadata": {},
   "outputs": [
    {
     "name": "stdout",
     "output_type": "stream",
     "text": [
      "Unique users: 2704\n",
      "Unique merchants: 1756\n",
      "Unique devices: 1996\n",
      "Chargeback rate: 0.12222569552985307\n"
     ]
    }
   ],
   "source": [
    "print(\"Unique users:\", df['user_id'].nunique())\n",
    "print(\"Unique merchants:\", df['merchant_id'].nunique())\n",
    "print(\"Unique devices:\", df['device_id'].nunique())\n",
    "print(\"Chargeback rate:\", df['has_cbk'].mean())"
   ]
  },
  {
   "cell_type": "markdown",
   "id": "29ab7bcf",
   "metadata": {},
   "source": [
    "Checking if transaction_id column contains duplicates"
   ]
  },
  {
   "cell_type": "code",
   "execution_count": 12,
   "id": "94b8c1c0",
   "metadata": {},
   "outputs": [
    {
     "data": {
      "text/html": [
       "<div>\n",
       "<style scoped>\n",
       "    .dataframe tbody tr th:only-of-type {\n",
       "        vertical-align: middle;\n",
       "    }\n",
       "\n",
       "    .dataframe tbody tr th {\n",
       "        vertical-align: top;\n",
       "    }\n",
       "\n",
       "    .dataframe thead th {\n",
       "        text-align: right;\n",
       "    }\n",
       "</style>\n",
       "<table border=\"1\" class=\"dataframe\">\n",
       "  <thead>\n",
       "    <tr style=\"text-align: right;\">\n",
       "      <th></th>\n",
       "      <th>transaction_id</th>\n",
       "      <th>merchant_id</th>\n",
       "      <th>user_id</th>\n",
       "      <th>card_number</th>\n",
       "      <th>transaction_date</th>\n",
       "      <th>transaction_amount</th>\n",
       "      <th>device_id</th>\n",
       "      <th>has_cbk</th>\n",
       "    </tr>\n",
       "  </thead>\n",
       "  <tbody>\n",
       "  </tbody>\n",
       "</table>\n",
       "</div>"
      ],
      "text/plain": [
       "Empty DataFrame\n",
       "Columns: [transaction_id, merchant_id, user_id, card_number, transaction_date, transaction_amount, device_id, has_cbk]\n",
       "Index: []"
      ]
     },
     "execution_count": 12,
     "metadata": {},
     "output_type": "execute_result"
    }
   ],
   "source": [
    "df[df.duplicated(subset='transaction_id')]"
   ]
  },
  {
   "cell_type": "markdown",
   "id": "1feb5714",
   "metadata": {},
   "source": [
    "Converting 'transaction_date' column to Datetime"
   ]
  },
  {
   "cell_type": "code",
   "execution_count": 13,
   "id": "568241f1",
   "metadata": {},
   "outputs": [],
   "source": [
    "df['transaction_date'] = pd.to_datetime(df['transaction_date'])"
   ]
  },
  {
   "cell_type": "code",
   "execution_count": 14,
   "id": "52bd1c3e",
   "metadata": {},
   "outputs": [
    {
     "name": "stdout",
     "output_type": "stream",
     "text": [
      "<class 'pandas.core.frame.DataFrame'>\n",
      "RangeIndex: 3199 entries, 0 to 3198\n",
      "Data columns (total 8 columns):\n",
      " #   Column              Non-Null Count  Dtype         \n",
      "---  ------              --------------  -----         \n",
      " 0   transaction_id      3199 non-null   int64         \n",
      " 1   merchant_id         3199 non-null   int64         \n",
      " 2   user_id             3199 non-null   int64         \n",
      " 3   card_number         3199 non-null   object        \n",
      " 4   transaction_date    3199 non-null   datetime64[ns]\n",
      " 5   transaction_amount  3199 non-null   float64       \n",
      " 6   device_id           2369 non-null   float64       \n",
      " 7   has_cbk             3199 non-null   bool          \n",
      "dtypes: bool(1), datetime64[ns](1), float64(2), int64(3), object(1)\n",
      "memory usage: 178.2+ KB\n"
     ]
    }
   ],
   "source": [
    "df.info()"
   ]
  },
  {
   "cell_type": "code",
   "execution_count": 16,
   "id": "66717f99",
   "metadata": {},
   "outputs": [
    {
     "data": {
      "text/html": [
       "<div>\n",
       "<style scoped>\n",
       "    .dataframe tbody tr th:only-of-type {\n",
       "        vertical-align: middle;\n",
       "    }\n",
       "\n",
       "    .dataframe tbody tr th {\n",
       "        vertical-align: top;\n",
       "    }\n",
       "\n",
       "    .dataframe thead th {\n",
       "        text-align: right;\n",
       "    }\n",
       "</style>\n",
       "<table border=\"1\" class=\"dataframe\">\n",
       "  <thead>\n",
       "    <tr style=\"text-align: right;\">\n",
       "      <th></th>\n",
       "      <th>transaction_id</th>\n",
       "      <th>merchant_id</th>\n",
       "      <th>user_id</th>\n",
       "      <th>card_number</th>\n",
       "      <th>transaction_date</th>\n",
       "      <th>transaction_amount</th>\n",
       "      <th>device_id</th>\n",
       "      <th>has_cbk</th>\n",
       "    </tr>\n",
       "  </thead>\n",
       "  <tbody>\n",
       "    <tr>\n",
       "      <th>0</th>\n",
       "      <td>21320398</td>\n",
       "      <td>29744</td>\n",
       "      <td>97051</td>\n",
       "      <td>434505******9116</td>\n",
       "      <td>2019-12-01 23:16:32.812632</td>\n",
       "      <td>374.56</td>\n",
       "      <td>285475.0</td>\n",
       "      <td>False</td>\n",
       "    </tr>\n",
       "    <tr>\n",
       "      <th>1</th>\n",
       "      <td>21320399</td>\n",
       "      <td>92895</td>\n",
       "      <td>2708</td>\n",
       "      <td>444456******4210</td>\n",
       "      <td>2019-12-01 22:45:37.873639</td>\n",
       "      <td>734.87</td>\n",
       "      <td>497105.0</td>\n",
       "      <td>True</td>\n",
       "    </tr>\n",
       "    <tr>\n",
       "      <th>2</th>\n",
       "      <td>21320400</td>\n",
       "      <td>47759</td>\n",
       "      <td>14777</td>\n",
       "      <td>425850******7024</td>\n",
       "      <td>2019-12-01 22:22:43.021495</td>\n",
       "      <td>760.36</td>\n",
       "      <td>NaN</td>\n",
       "      <td>False</td>\n",
       "    </tr>\n",
       "    <tr>\n",
       "      <th>3</th>\n",
       "      <td>21320401</td>\n",
       "      <td>68657</td>\n",
       "      <td>69758</td>\n",
       "      <td>464296******3991</td>\n",
       "      <td>2019-12-01 21:59:19.797129</td>\n",
       "      <td>2556.13</td>\n",
       "      <td>NaN</td>\n",
       "      <td>True</td>\n",
       "    </tr>\n",
       "    <tr>\n",
       "      <th>4</th>\n",
       "      <td>21320402</td>\n",
       "      <td>54075</td>\n",
       "      <td>64367</td>\n",
       "      <td>650487******6116</td>\n",
       "      <td>2019-12-01 21:30:53.347051</td>\n",
       "      <td>55.36</td>\n",
       "      <td>860232.0</td>\n",
       "      <td>False</td>\n",
       "    </tr>\n",
       "  </tbody>\n",
       "</table>\n",
       "</div>"
      ],
      "text/plain": [
       "   transaction_id  merchant_id  user_id       card_number  \\\n",
       "0        21320398        29744    97051  434505******9116   \n",
       "1        21320399        92895     2708  444456******4210   \n",
       "2        21320400        47759    14777  425850******7024   \n",
       "3        21320401        68657    69758  464296******3991   \n",
       "4        21320402        54075    64367  650487******6116   \n",
       "\n",
       "            transaction_date  transaction_amount  device_id  has_cbk  \n",
       "0 2019-12-01 23:16:32.812632              374.56   285475.0    False  \n",
       "1 2019-12-01 22:45:37.873639              734.87   497105.0     True  \n",
       "2 2019-12-01 22:22:43.021495              760.36        NaN    False  \n",
       "3 2019-12-01 21:59:19.797129             2556.13        NaN     True  \n",
       "4 2019-12-01 21:30:53.347051               55.36   860232.0    False  "
      ]
     },
     "execution_count": 16,
     "metadata": {},
     "output_type": "execute_result"
    }
   ],
   "source": [
    "df.head()"
   ]
  },
  {
   "cell_type": "markdown",
   "id": "4d5d559a",
   "metadata": {},
   "source": [
    "# Suspicious Patterns"
   ]
  },
  {
   "cell_type": "markdown",
   "id": "18b37966",
   "metadata": {},
   "source": [
    "## CBK"
   ]
  },
  {
   "cell_type": "markdown",
   "id": "a23db966",
   "metadata": {},
   "source": [
    "CBK rate by merchant"
   ]
  },
  {
   "cell_type": "code",
   "execution_count": 64,
   "id": "8467252e",
   "metadata": {},
   "outputs": [
    {
     "data": {
      "text/plain": [
       "merchant_id\n",
       "15950    1.0\n",
       "65241    1.0\n",
       "67075    1.0\n",
       "11911    1.0\n",
       "5763     1.0\n",
       "67764    1.0\n",
       "68657    1.0\n",
       "38568    1.0\n",
       "70899    1.0\n",
       "72723    1.0\n",
       "Name: has_cbk, dtype: float64"
      ]
     },
     "execution_count": 64,
     "metadata": {},
     "output_type": "execute_result"
    }
   ],
   "source": [
    "merchant_cbk = df.groupby('merchant_id')['has_cbk'].mean().sort_values(ascending=False)\n",
    "merchant_cbk.head(10)"
   ]
  },
  {
   "cell_type": "code",
   "execution_count": null,
   "id": "b1d737a1",
   "metadata": {},
   "outputs": [],
   "source": []
  },
  {
   "cell_type": "code",
   "execution_count": 77,
   "id": "0e7a7eae",
   "metadata": {},
   "outputs": [
    {
     "data": {
      "text/html": [
       "<div>\n",
       "<style scoped>\n",
       "    .dataframe tbody tr th:only-of-type {\n",
       "        vertical-align: middle;\n",
       "    }\n",
       "\n",
       "    .dataframe tbody tr th {\n",
       "        vertical-align: top;\n",
       "    }\n",
       "\n",
       "    .dataframe thead th {\n",
       "        text-align: right;\n",
       "    }\n",
       "</style>\n",
       "<table border=\"1\" class=\"dataframe\">\n",
       "  <thead>\n",
       "    <tr style=\"text-align: right;\">\n",
       "      <th></th>\n",
       "      <th>cbk_rate</th>\n",
       "      <th>txn_count</th>\n",
       "    </tr>\n",
       "    <tr>\n",
       "      <th>merchant_id</th>\n",
       "      <th></th>\n",
       "      <th></th>\n",
       "    </tr>\n",
       "  </thead>\n",
       "  <tbody>\n",
       "    <tr>\n",
       "      <th>1308</th>\n",
       "      <td>1.0</td>\n",
       "      <td>15</td>\n",
       "    </tr>\n",
       "    <tr>\n",
       "      <th>44927</th>\n",
       "      <td>1.0</td>\n",
       "      <td>11</td>\n",
       "    </tr>\n",
       "    <tr>\n",
       "      <th>73271</th>\n",
       "      <td>1.0</td>\n",
       "      <td>10</td>\n",
       "    </tr>\n",
       "    <tr>\n",
       "      <th>38337</th>\n",
       "      <td>1.0</td>\n",
       "      <td>6</td>\n",
       "    </tr>\n",
       "    <tr>\n",
       "      <th>48126</th>\n",
       "      <td>1.0</td>\n",
       "      <td>6</td>\n",
       "    </tr>\n",
       "    <tr>\n",
       "      <th>75917</th>\n",
       "      <td>1.0</td>\n",
       "      <td>6</td>\n",
       "    </tr>\n",
       "    <tr>\n",
       "      <th>81795</th>\n",
       "      <td>1.0</td>\n",
       "      <td>6</td>\n",
       "    </tr>\n",
       "    <tr>\n",
       "      <th>8942</th>\n",
       "      <td>1.0</td>\n",
       "      <td>5</td>\n",
       "    </tr>\n",
       "    <tr>\n",
       "      <th>15326</th>\n",
       "      <td>1.0</td>\n",
       "      <td>5</td>\n",
       "    </tr>\n",
       "    <tr>\n",
       "      <th>38568</th>\n",
       "      <td>1.0</td>\n",
       "      <td>5</td>\n",
       "    </tr>\n",
       "  </tbody>\n",
       "</table>\n",
       "</div>"
      ],
      "text/plain": [
       "             cbk_rate  txn_count\n",
       "merchant_id                     \n",
       "1308              1.0         15\n",
       "44927             1.0         11\n",
       "73271             1.0         10\n",
       "38337             1.0          6\n",
       "48126             1.0          6\n",
       "75917             1.0          6\n",
       "81795             1.0          6\n",
       "8942              1.0          5\n",
       "15326             1.0          5\n",
       "38568             1.0          5"
      ]
     },
     "execution_count": 77,
     "metadata": {},
     "output_type": "execute_result"
    }
   ],
   "source": [
    "merchant_cbk_stats = df.groupby('merchant_id').agg(\n",
    "    cbk_rate=('has_cbk', 'mean'),\n",
    "    txn_count=('has_cbk', 'count')\n",
    ").sort_values(by=['cbk_rate', 'txn_count'], ascending=False)\n",
    "\n",
    "merchant_cbk_stats.head(10)"
   ]
  },
  {
   "cell_type": "markdown",
   "id": "3bf74aac",
   "metadata": {},
   "source": [
    "CBK rate by user"
   ]
  },
  {
   "cell_type": "code",
   "execution_count": 65,
   "id": "5561b023",
   "metadata": {},
   "outputs": [
    {
     "data": {
      "text/plain": [
       "user_id\n",
       "39334    1.0\n",
       "45031    1.0\n",
       "11065    1.0\n",
       "86219    1.0\n",
       "50699    1.0\n",
       "5541     1.0\n",
       "47604    1.0\n",
       "19820    1.0\n",
       "21233    1.0\n",
       "38734    1.0\n",
       "Name: has_cbk, dtype: float64"
      ]
     },
     "execution_count": 65,
     "metadata": {},
     "output_type": "execute_result"
    }
   ],
   "source": [
    "user_cbk = df.groupby('user_id')['has_cbk'].mean().sort_values(ascending=False)\n",
    "user_cbk.head(10)"
   ]
  },
  {
   "cell_type": "code",
   "execution_count": 75,
   "id": "4f3b00f6",
   "metadata": {},
   "outputs": [],
   "source": [
    "user_cbk_stats = df.groupby('user_id').agg(\n",
    "    cbk_rate=('has_cbk', 'mean'),\n",
    "    txn_count=('has_cbk', 'count')\n",
    ").sort_values(by=['cbk_rate', 'txn_count'], ascending=False)"
   ]
  },
  {
   "cell_type": "code",
   "execution_count": 76,
   "id": "27ece21d",
   "metadata": {},
   "outputs": [
    {
     "data": {
      "text/html": [
       "<div>\n",
       "<style scoped>\n",
       "    .dataframe tbody tr th:only-of-type {\n",
       "        vertical-align: middle;\n",
       "    }\n",
       "\n",
       "    .dataframe tbody tr th {\n",
       "        vertical-align: top;\n",
       "    }\n",
       "\n",
       "    .dataframe thead th {\n",
       "        text-align: right;\n",
       "    }\n",
       "</style>\n",
       "<table border=\"1\" class=\"dataframe\">\n",
       "  <thead>\n",
       "    <tr style=\"text-align: right;\">\n",
       "      <th></th>\n",
       "      <th>cbk_rate</th>\n",
       "      <th>txn_count</th>\n",
       "    </tr>\n",
       "    <tr>\n",
       "      <th>user_id</th>\n",
       "      <th></th>\n",
       "      <th></th>\n",
       "    </tr>\n",
       "  </thead>\n",
       "  <tbody>\n",
       "    <tr>\n",
       "      <th>75710</th>\n",
       "      <td>1.0</td>\n",
       "      <td>10</td>\n",
       "    </tr>\n",
       "    <tr>\n",
       "      <th>7725</th>\n",
       "      <td>1.0</td>\n",
       "      <td>7</td>\n",
       "    </tr>\n",
       "    <tr>\n",
       "      <th>17929</th>\n",
       "      <td>1.0</td>\n",
       "      <td>6</td>\n",
       "    </tr>\n",
       "    <tr>\n",
       "      <th>21768</th>\n",
       "      <td>1.0</td>\n",
       "      <td>6</td>\n",
       "    </tr>\n",
       "    <tr>\n",
       "      <th>28218</th>\n",
       "      <td>1.0</td>\n",
       "      <td>5</td>\n",
       "    </tr>\n",
       "    <tr>\n",
       "      <th>71424</th>\n",
       "      <td>1.0</td>\n",
       "      <td>5</td>\n",
       "    </tr>\n",
       "    <tr>\n",
       "      <th>86411</th>\n",
       "      <td>1.0</td>\n",
       "      <td>5</td>\n",
       "    </tr>\n",
       "    <tr>\n",
       "      <th>99396</th>\n",
       "      <td>1.0</td>\n",
       "      <td>5</td>\n",
       "    </tr>\n",
       "    <tr>\n",
       "      <th>11065</th>\n",
       "      <td>1.0</td>\n",
       "      <td>4</td>\n",
       "    </tr>\n",
       "    <tr>\n",
       "      <th>17807</th>\n",
       "      <td>1.0</td>\n",
       "      <td>4</td>\n",
       "    </tr>\n",
       "  </tbody>\n",
       "</table>\n",
       "</div>"
      ],
      "text/plain": [
       "         cbk_rate  txn_count\n",
       "user_id                     \n",
       "75710         1.0         10\n",
       "7725          1.0          7\n",
       "17929         1.0          6\n",
       "21768         1.0          6\n",
       "28218         1.0          5\n",
       "71424         1.0          5\n",
       "86411         1.0          5\n",
       "99396         1.0          5\n",
       "11065         1.0          4\n",
       "17807         1.0          4"
      ]
     },
     "execution_count": 76,
     "metadata": {},
     "output_type": "execute_result"
    }
   ],
   "source": [
    "user_cbk_stats.head(10)"
   ]
  },
  {
   "cell_type": "markdown",
   "id": "313064ca",
   "metadata": {},
   "source": [
    "CBK rate by device"
   ]
  },
  {
   "cell_type": "code",
   "execution_count": 68,
   "id": "857d2160",
   "metadata": {},
   "outputs": [
    {
     "data": {
      "text/plain": [
       "device_id\n",
       "6638.0      1.0\n",
       "287404.0    1.0\n",
       "306719.0    1.0\n",
       "307489.0    1.0\n",
       "486.0       1.0\n",
       "69227.0     1.0\n",
       "367746.0    1.0\n",
       "122092.0    1.0\n",
       "180611.0    1.0\n",
       "308950.0    1.0\n",
       "Name: has_cbk, dtype: float64"
      ]
     },
     "execution_count": 68,
     "metadata": {},
     "output_type": "execute_result"
    }
   ],
   "source": [
    "device_cbk = df.groupby('device_id')['has_cbk'].mean().sort_values(ascending=False)\n",
    "device_cbk.head(10)"
   ]
  },
  {
   "cell_type": "code",
   "execution_count": 78,
   "id": "5fbfba3e",
   "metadata": {},
   "outputs": [],
   "source": [
    "device_cbk_stats = df.groupby('device_id').agg(\n",
    "    cbk_rate=('has_cbk', 'mean'),\n",
    "    txn_count=('has_cbk', 'count')\n",
    ").sort_values(by=['cbk_rate', 'txn_count'], ascending=False)"
   ]
  },
  {
   "cell_type": "code",
   "execution_count": 79,
   "metadata": {},
   "outputs": [
    {
     "data": {
      "text/html": [
       "<div>\n",
       "<style scoped>\n",
       "    .dataframe tbody tr th:only-of-type {\n",
       "        vertical-align: middle;\n",
       "    }\n",
       "\n",
       "    .dataframe tbody tr th {\n",
       "        vertical-align: top;\n",
       "    }\n",
       "\n",
       "    .dataframe thead th {\n",
       "        text-align: right;\n",
       "    }\n",
       "</style>\n",
       "<table border=\"1\" class=\"dataframe\">\n",
       "  <thead>\n",
       "    <tr style=\"text-align: right;\">\n",
       "      <th></th>\n",
       "      <th>cbk_rate</th>\n",
       "      <th>txn_count</th>\n",
       "    </tr>\n",
       "    <tr>\n",
       "      <th>device_id</th>\n",
       "      <th></th>\n",
       "      <th></th>\n",
       "    </tr>\n",
       "  </thead>\n",
       "  <tbody>\n",
       "    <tr>\n",
       "      <th>357277.0</th>\n",
       "      <td>1.0</td>\n",
       "      <td>6</td>\n",
       "    </tr>\n",
       "    <tr>\n",
       "      <th>960729.0</th>\n",
       "      <td>1.0</td>\n",
       "      <td>6</td>\n",
       "    </tr>\n",
       "    <tr>\n",
       "      <th>174844.0</th>\n",
       "      <td>1.0</td>\n",
       "      <td>5</td>\n",
       "    </tr>\n",
       "    <tr>\n",
       "      <th>308950.0</th>\n",
       "      <td>1.0</td>\n",
       "      <td>5</td>\n",
       "    </tr>\n",
       "    <tr>\n",
       "      <th>597308.0</th>\n",
       "      <td>1.0</td>\n",
       "      <td>5</td>\n",
       "    </tr>\n",
       "    <tr>\n",
       "      <th>486.0</th>\n",
       "      <td>1.0</td>\n",
       "      <td>4</td>\n",
       "    </tr>\n",
       "    <tr>\n",
       "      <th>122092.0</th>\n",
       "      <td>1.0</td>\n",
       "      <td>4</td>\n",
       "    </tr>\n",
       "    <tr>\n",
       "      <th>288714.0</th>\n",
       "      <td>1.0</td>\n",
       "      <td>4</td>\n",
       "    </tr>\n",
       "    <tr>\n",
       "      <th>570971.0</th>\n",
       "      <td>1.0</td>\n",
       "      <td>4</td>\n",
       "    </tr>\n",
       "    <tr>\n",
       "      <th>670695.0</th>\n",
       "      <td>1.0</td>\n",
       "      <td>4</td>\n",
       "    </tr>\n",
       "  </tbody>\n",
       "</table>\n",
       "</div>"
      ],
      "text/plain": [
       "           cbk_rate  txn_count\n",
       "device_id                     \n",
       "357277.0        1.0          6\n",
       "960729.0        1.0          6\n",
       "174844.0        1.0          5\n",
       "308950.0        1.0          5\n",
       "597308.0        1.0          5\n",
       "486.0           1.0          4\n",
       "122092.0        1.0          4\n",
       "288714.0        1.0          4\n",
       "570971.0        1.0          4\n",
       "670695.0        1.0          4"
      ]
     },
     "execution_count": 79,
     "metadata": {},
     "output_type": "execute_result"
    }
   ],
   "source": [
    "device_cbk_stats.head(10)"
   ]
  },
  {
   "cell_type": "code",
   "execution_count": null,
   "id": "c2131358",
   "metadata": {},
   "outputs": [],
   "source": []
  },
  {
   "cell_type": "code",
   "execution_count": 80,
   "metadata": {},
   "outputs": [],
   "source": [
    "df = df.sort_values(by=['card_number', 'transaction_date'])\n",
    "df['prev_txn_time'] = df.groupby('card_number')['transaction_date'].shift()\n",
    "df['time_diff'] = (df['transaction_date'] - df['prev_txn_time']).dt.total_seconds() / 60\n",
    "suspicious_velocity = df[(df['time_diff'] >= 0) & (df['time_diff'] < 5)]  # <5 minutes"
   ]
  },
  {
   "cell_type": "code",
   "execution_count": 82,
   "id": "7aed2d55",
   "metadata": {},
   "outputs": [
    {
     "data": {
      "text/html": [
       "<div>\n",
       "<style scoped>\n",
       "    .dataframe tbody tr th:only-of-type {\n",
       "        vertical-align: middle;\n",
       "    }\n",
       "\n",
       "    .dataframe tbody tr th {\n",
       "        vertical-align: top;\n",
       "    }\n",
       "\n",
       "    .dataframe thead th {\n",
       "        text-align: right;\n",
       "    }\n",
       "</style>\n",
       "<table border=\"1\" class=\"dataframe\">\n",
       "  <thead>\n",
       "    <tr style=\"text-align: right;\">\n",
       "      <th></th>\n",
       "      <th>transaction_id</th>\n",
       "      <th>merchant_id</th>\n",
       "      <th>user_id</th>\n",
       "      <th>card_number</th>\n",
       "      <th>transaction_date</th>\n",
       "      <th>transaction_amount</th>\n",
       "      <th>device_id</th>\n",
       "      <th>has_cbk</th>\n",
       "      <th>prev_txn_time</th>\n",
       "      <th>time_diff</th>\n",
       "    </tr>\n",
       "  </thead>\n",
       "  <tbody>\n",
       "    <tr>\n",
       "      <th>756</th>\n",
       "      <td>21321154</td>\n",
       "      <td>48126</td>\n",
       "      <td>92259</td>\n",
       "      <td>406669******1721</td>\n",
       "      <td>2019-11-29 00:01:41.332782</td>\n",
       "      <td>1012.42</td>\n",
       "      <td>355583.0</td>\n",
       "      <td>True</td>\n",
       "      <td>2019-11-28 23:59:44.770666</td>\n",
       "      <td>1.942702</td>\n",
       "    </tr>\n",
       "    <tr>\n",
       "      <th>629</th>\n",
       "      <td>21321027</td>\n",
       "      <td>80155</td>\n",
       "      <td>88553</td>\n",
       "      <td>410863******7755</td>\n",
       "      <td>2019-11-29 15:35:24.506721</td>\n",
       "      <td>280.52</td>\n",
       "      <td>27250.0</td>\n",
       "      <td>False</td>\n",
       "      <td>2019-11-29 15:33:58.565067</td>\n",
       "      <td>1.432361</td>\n",
       "    </tr>\n",
       "    <tr>\n",
       "      <th>628</th>\n",
       "      <td>21321026</td>\n",
       "      <td>80155</td>\n",
       "      <td>88553</td>\n",
       "      <td>410863******7755</td>\n",
       "      <td>2019-11-29 15:36:16.283879</td>\n",
       "      <td>151.64</td>\n",
       "      <td>27250.0</td>\n",
       "      <td>False</td>\n",
       "      <td>2019-11-29 15:35:24.506721</td>\n",
       "      <td>0.862953</td>\n",
       "    </tr>\n",
       "    <tr>\n",
       "      <th>964</th>\n",
       "      <td>21321362</td>\n",
       "      <td>46045</td>\n",
       "      <td>10378</td>\n",
       "      <td>415944******1540</td>\n",
       "      <td>2019-11-28 15:41:40.107253</td>\n",
       "      <td>553.66</td>\n",
       "      <td>17372.0</td>\n",
       "      <td>True</td>\n",
       "      <td>2019-11-28 15:40:42.787730</td>\n",
       "      <td>0.955325</td>\n",
       "    </tr>\n",
       "    <tr>\n",
       "      <th>481</th>\n",
       "      <td>21320879</td>\n",
       "      <td>48126</td>\n",
       "      <td>55630</td>\n",
       "      <td>421960******7769</td>\n",
       "      <td>2019-11-29 21:07:27.923685</td>\n",
       "      <td>1074.53</td>\n",
       "      <td>611676.0</td>\n",
       "      <td>True</td>\n",
       "      <td>2019-11-29 21:04:05.545169</td>\n",
       "      <td>3.372975</td>\n",
       "    </tr>\n",
       "    <tr>\n",
       "      <th>480</th>\n",
       "      <td>21320878</td>\n",
       "      <td>48126</td>\n",
       "      <td>55630</td>\n",
       "      <td>421960******7769</td>\n",
       "      <td>2019-11-29 21:09:39.628804</td>\n",
       "      <td>1086.37</td>\n",
       "      <td>611676.0</td>\n",
       "      <td>True</td>\n",
       "      <td>2019-11-29 21:07:27.923685</td>\n",
       "      <td>2.195085</td>\n",
       "    </tr>\n",
       "    <tr>\n",
       "      <th>1173</th>\n",
       "      <td>21321571</td>\n",
       "      <td>11202</td>\n",
       "      <td>88625</td>\n",
       "      <td>427167******6030</td>\n",
       "      <td>2019-11-26 17:04:23.573237</td>\n",
       "      <td>80.52</td>\n",
       "      <td>917833.0</td>\n",
       "      <td>False</td>\n",
       "      <td>2019-11-26 17:02:57.542262</td>\n",
       "      <td>1.433850</td>\n",
       "    </tr>\n",
       "    <tr>\n",
       "      <th>130</th>\n",
       "      <td>21320528</td>\n",
       "      <td>93520</td>\n",
       "      <td>77959</td>\n",
       "      <td>432957******7262</td>\n",
       "      <td>2019-12-01 11:00:12.687222</td>\n",
       "      <td>2.75</td>\n",
       "      <td>589318.0</td>\n",
       "      <td>False</td>\n",
       "      <td>2019-12-01 10:59:39.973715</td>\n",
       "      <td>0.545225</td>\n",
       "    </tr>\n",
       "    <tr>\n",
       "      <th>129</th>\n",
       "      <td>21320527</td>\n",
       "      <td>93520</td>\n",
       "      <td>77959</td>\n",
       "      <td>432957******7262</td>\n",
       "      <td>2019-12-01 11:00:36.196460</td>\n",
       "      <td>2.00</td>\n",
       "      <td>589318.0</td>\n",
       "      <td>False</td>\n",
       "      <td>2019-12-01 11:00:12.687222</td>\n",
       "      <td>0.391821</td>\n",
       "    </tr>\n",
       "    <tr>\n",
       "      <th>1925</th>\n",
       "      <td>21322323</td>\n",
       "      <td>49387</td>\n",
       "      <td>98432</td>\n",
       "      <td>455184******9829</td>\n",
       "      <td>2019-11-22 15:18:41.555535</td>\n",
       "      <td>514.89</td>\n",
       "      <td>534341.0</td>\n",
       "      <td>False</td>\n",
       "      <td>2019-11-22 15:17:02.858448</td>\n",
       "      <td>1.644951</td>\n",
       "    </tr>\n",
       "  </tbody>\n",
       "</table>\n",
       "</div>"
      ],
      "text/plain": [
       "      transaction_id  merchant_id  user_id       card_number  \\\n",
       "756         21321154        48126    92259  406669******1721   \n",
       "629         21321027        80155    88553  410863******7755   \n",
       "628         21321026        80155    88553  410863******7755   \n",
       "964         21321362        46045    10378  415944******1540   \n",
       "481         21320879        48126    55630  421960******7769   \n",
       "480         21320878        48126    55630  421960******7769   \n",
       "1173        21321571        11202    88625  427167******6030   \n",
       "130         21320528        93520    77959  432957******7262   \n",
       "129         21320527        93520    77959  432957******7262   \n",
       "1925        21322323        49387    98432  455184******9829   \n",
       "\n",
       "               transaction_date  transaction_amount  device_id  has_cbk  \\\n",
       "756  2019-11-29 00:01:41.332782             1012.42   355583.0     True   \n",
       "629  2019-11-29 15:35:24.506721              280.52    27250.0    False   \n",
       "628  2019-11-29 15:36:16.283879              151.64    27250.0    False   \n",
       "964  2019-11-28 15:41:40.107253              553.66    17372.0     True   \n",
       "481  2019-11-29 21:07:27.923685             1074.53   611676.0     True   \n",
       "480  2019-11-29 21:09:39.628804             1086.37   611676.0     True   \n",
       "1173 2019-11-26 17:04:23.573237               80.52   917833.0    False   \n",
       "130  2019-12-01 11:00:12.687222                2.75   589318.0    False   \n",
       "129  2019-12-01 11:00:36.196460                2.00   589318.0    False   \n",
       "1925 2019-11-22 15:18:41.555535              514.89   534341.0    False   \n",
       "\n",
       "                  prev_txn_time  time_diff  \n",
       "756  2019-11-28 23:59:44.770666   1.942702  \n",
       "629  2019-11-29 15:33:58.565067   1.432361  \n",
       "628  2019-11-29 15:35:24.506721   0.862953  \n",
       "964  2019-11-28 15:40:42.787730   0.955325  \n",
       "481  2019-11-29 21:04:05.545169   3.372975  \n",
       "480  2019-11-29 21:07:27.923685   2.195085  \n",
       "1173 2019-11-26 17:02:57.542262   1.433850  \n",
       "130  2019-12-01 10:59:39.973715   0.545225  \n",
       "129  2019-12-01 11:00:12.687222   0.391821  \n",
       "1925 2019-11-22 15:17:02.858448   1.644951  "
      ]
     },
     "execution_count": 82,
     "metadata": {},
     "output_type": "execute_result"
    }
   ],
   "source": [
    "suspicious_velocity.head(10)"
   ]
  },
  {
   "cell_type": "code",
   "execution_count": 83,
   "id": "f7b866c8",
   "metadata": {},
   "outputs": [],
   "source": [
    "device_card_counts = df.groupby('device_id')['card_number'].nunique().sort_values(ascending=False)"
   ]
  },
  {
   "cell_type": "code",
   "execution_count": 84,
   "id": "5891c1be",
   "metadata": {},
   "outputs": [
    {
     "data": {
      "text/plain": [
       "device_id\n",
       "563499.0    22\n",
       "342890.0    19\n",
       "101848.0    15\n",
       "438940.0    10\n",
       "547440.0    10\n",
       "223682.0     7\n",
       "542535.0     7\n",
       "262327.0     6\n",
       "960729.0     6\n",
       "115003.0     5\n",
       "Name: card_number, dtype: int64"
      ]
     },
     "execution_count": 84,
     "metadata": {},
     "output_type": "execute_result"
    }
   ],
   "source": [
    "device_card_counts.head(10)"
   ]
  },
  {
   "cell_type": "code",
   "execution_count": 85,
   "id": "bbb9f297",
   "metadata": {},
   "outputs": [],
   "source": [
    "avg_amount = df.groupby('has_cbk')['transaction_amount'].mean()"
   ]
  },
  {
   "cell_type": "code",
   "execution_count": 86,
   "id": "402d6e47",
   "metadata": {},
   "outputs": [
    {
     "data": {
      "text/plain": [
       "has_cbk\n",
       "False     672.324380\n",
       "True     1453.571918\n",
       "Name: transaction_amount, dtype: float64"
      ]
     },
     "execution_count": 86,
     "metadata": {},
     "output_type": "execute_result"
    }
   ],
   "source": [
    "avg_amount"
   ]
  },
  {
   "cell_type": "code",
   "execution_count": 87,
   "id": "01d85896",
   "metadata": {},
   "outputs": [
    {
     "name": "stdout",
     "output_type": "stream",
     "text": [
      "\n",
      "--- Fraud rate by hour of day ---\n",
      "hour\n",
      "0     0.180451\n",
      "1     0.126126\n",
      "2     0.295082\n",
      "3     0.133333\n",
      "4     0.000000\n",
      "5     0.000000\n",
      "6     0.500000\n",
      "8     0.000000\n",
      "9     0.000000\n",
      "10    0.000000\n",
      "11    0.053763\n",
      "12    0.081081\n",
      "13    0.056410\n",
      "14    0.064777\n",
      "15    0.075314\n",
      "16    0.107914\n",
      "17    0.114391\n",
      "18    0.082734\n",
      "19    0.167939\n",
      "20    0.136029\n",
      "21    0.185022\n",
      "22    0.177914\n",
      "23    0.198864\n",
      "Name: has_cbk, dtype: float64\n"
     ]
    }
   ],
   "source": [
    "df['hour'] = df['transaction_date'].dt.hour\n",
    "hourly_cbk = df.groupby('hour')['has_cbk'].mean()\n",
    "print(\"\\n--- Fraud rate by hour of day ---\")\n",
    "print(hourly_cbk)"
   ]
  },
  {
   "cell_type": "code",
   "execution_count": null,
   "id": "68fb86ab",
   "metadata": {},
   "outputs": [],
   "source": []
  }
 ],
 "metadata": {
  "kernelspec": {
   "display_name": ".venv",
   "language": "python",
   "name": "python3"
  },
  "language_info": {
   "codemirror_mode": {
    "name": "ipython",
    "version": 3
   },
   "file_extension": ".py",
   "mimetype": "text/x-python",
   "name": "python",
   "nbconvert_exporter": "python",
   "pygments_lexer": "ipython3",
   "version": "3.13.5"
  }
 },
 "nbformat": 4,
 "nbformat_minor": 5
}
